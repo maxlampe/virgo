{
 "cells": [
  {
   "cell_type": "markdown",
   "metadata": {},
   "source": [
    "# Virgo Demo 3 - Advanced pipeline"
   ]
  },
  {
   "cell_type": "code",
   "execution_count": null,
   "metadata": {},
   "outputs": [],
   "source": [
    "from virgo.data.cluster import VirgoCluster\n",
    "from virgo.data.cleaner import LowDensityCleaner\n",
    "from virgo.models.kernel import VirgoSimpleKernel, VirgoKernel\n",
    "from virgo.models.mixture import VirgoMixture, VirgoClustering\n",
    "\n",
    "%load_ext autoreload\n",
    "%autoreload 2\n",
    "\n",
    "%matplotlib notebook"
   ]
  },
  {
   "cell_type": "code",
   "execution_count": null,
   "metadata": {},
   "outputs": [],
   "source": [
    "filebase = \"/home/max/Software/virgo/data/VIRGO/snap_800\"\n",
    "virgo_cluster = VirgoCluster(\n",
    "    file_name=filebase, io_mode=1, cut_mach_dim=-2, n_max_data=200000, \n",
    ")\n",
    "virgo_cluster.data = virgo_cluster.data[:, :-1]\n",
    "virgo_cluster.scale_data()\n",
    "virgo_cluster.print_datastats()\n",
    "virgo_cluster.plot_raw_hists(\n",
    "    bins=100, plot_range=[[2000., 8000.], [-6000., 1000.], [-3000., 6000.]]\n",
    ")"
   ]
  },
  {
   "cell_type": "code",
   "execution_count": null,
   "metadata": {
    "scrolled": false
   },
   "outputs": [],
   "source": [
    "# Vanilla FoF\n",
    "virgo_cluster.run_fof(linking_length=5000., min_group_size=1000, use_scaled_data=False)\n",
    "\n",
    "labels, counts = virgo_cluster.get_labels(return_counts=True)\n",
    "print(labels, counts)\n",
    "virgo_cluster.plot_cluster(n_step=1, store_gif=False, gif_title=\"fof_vanilla_50\", maker_size=1.)"
   ]
  },
  {
   "cell_type": "code",
   "execution_count": null,
   "metadata": {
    "scrolled": false
   },
   "outputs": [],
   "source": [
    "# virgo_kernel = VirgoKernel(virgo_cluster, spatial_dim=[0, 1, 2, 3, 4, 5], k_nystroem=4000, pca_comp=5)\n",
    "virgo_kernel = VirgoKernel(virgo_cluster, k_nystroem=100, pca_comp=5)\n",
    "virgo_kernel()\n",
    "virgo_cluster.print_datastats()"
   ]
  },
  {
   "cell_type": "code",
   "execution_count": null,
   "metadata": {
    "scrolled": false
   },
   "outputs": [],
   "source": [
    "# rbf 800\n",
    "virgo_cluster.run_fof(linking_length=0.018, min_group_size=100, use_scaled_data=True)\n",
    "\n",
    "# # rbf 850\n",
    "# virgo_cluster.run_fof(linking_length=0.019, min_group_size=300, use_scaled_data=True)\n",
    "\n",
    "# # rbf 900\n",
    "# virgo_cluster.run_fof(linking_length=0.019, min_group_size=300, use_scaled_data=True)\n",
    "\n",
    "# raw\n",
    "# virgo_cluster.run_fof(linking_length=30., min_group_size=3000, use_scaled_data=False)\n",
    "\n",
    "labels, counts = virgo_cluster.get_labels(return_counts=True)\n",
    "print(len(labels))\n",
    "print(labels, counts)\n",
    "virgo_cluster.plot_cluster(n_step=1, plot_kernel_space=True, store_gif=False, gif_title=\"fof_kernel_kspace\")\n",
    "virgo_cluster.plot_cluster(n_step=1, store_gif=False, gif_title=\"fof_kernel\")"
   ]
  },
  {
   "cell_type": "code",
   "execution_count": null,
   "metadata": {
    "scrolled": true
   },
   "outputs": [],
   "source": [
    "# 800 -16\n",
    "# 850 -14\n",
    "# 900 -14\n",
    "d_cleaner = LowDensityCleaner(virgo_cluster, 1e-10)\n",
    "d_cleaner.clean()\n",
    "print(virgo_cluster.get_labels(return_counts=True))\n",
    "virgo_cluster.plot_cluster(n_step=1)"
   ]
  },
  {
   "cell_type": "code",
   "execution_count": null,
   "metadata": {},
   "outputs": [],
   "source": [
    "virgo_cluster.plot_cluster(n_step=1, store_gif=False, gif_title=\"fof_kernel\", cluster_label=[0, 1, 2, 3, 5])"
   ]
  },
  {
   "cell_type": "code",
   "execution_count": null,
   "metadata": {
    "scrolled": false
   },
   "outputs": [],
   "source": [
    "virgo_mixture = VirgoMixture(virgo_cluster, n_comp=2)\n",
    "elbo = virgo_mixture.fit()\n",
    "\n",
    "print(f\"ELBO: {elbo}\")\n",
    "print(f\"Mixture weights {virgo_mixture.model.weights_}\")\n",
    "\n",
    "virgo_mixture.predict(remove_uncertain_labels=False)\n",
    "labels_removed = virgo_cluster.get_labels(return_counts=True)\n",
    "print(labels_removed)\n",
    "\n",
    "virgo_cluster.cluster_labels[virgo_cluster.cluster_labels == 1] = 2\n",
    "# virgo_cluster.cluster_labels[virgo_cluster.cluster_labels == 1][0:100] = 4\n",
    "\n",
    "virgo_cluster.plot_cluster(cmap_vmax=4, n_step=5, plot_kernel_space=True, store_gif=False, gif_title=\"nystroem_separation_kernelspace\")\n",
    "virgo_cluster.plot_cluster(cmap_vmax=4, n_step=5, store_gif=False, gif_title=\"nystroem_separation_kernelspace\")"
   ]
  },
  {
   "cell_type": "code",
   "execution_count": null,
   "metadata": {},
   "outputs": [],
   "source": [
    "d_cleaner = LowDensityCleaner(virgo_cluster, 1e-10)\n",
    "d_cleaner.clean()\n",
    "print(virgo_cluster.get_labels(return_counts=True))\n",
    "virgo_cluster.plot_cluster(n_step=5)"
   ]
  },
  {
   "cell_type": "code",
   "execution_count": null,
   "metadata": {},
   "outputs": [],
   "source": []
  },
  {
   "cell_type": "code",
   "execution_count": null,
   "metadata": {},
   "outputs": [],
   "source": []
  },
  {
   "cell_type": "code",
   "execution_count": null,
   "metadata": {},
   "outputs": [],
   "source": []
  },
  {
   "cell_type": "code",
   "execution_count": null,
   "metadata": {},
   "outputs": [],
   "source": []
  },
  {
   "cell_type": "code",
   "execution_count": null,
   "metadata": {},
   "outputs": [],
   "source": [
    "vc_2 = VirgoCluster(file_name=None)\n",
    "vc_2.data = virgo_cluster.cluster[virgo_cluster.cluster_labels >=0]\n",
    "vc_2.scale_data()\n",
    "vc_2.print_datastats()"
   ]
  },
  {
   "cell_type": "code",
   "execution_count": null,
   "metadata": {
    "scrolled": false
   },
   "outputs": [],
   "source": [
    "vc_2.run_fof(linking_length=10000., min_group_size=200, use_scaled_data=False)\n",
    "\n",
    "\n",
    "labels, counts = vc_2.get_labels(return_counts=True)\n",
    "print(len(labels))\n",
    "print(labels, counts)\n",
    "print(counts[1:].sum())\n",
    "vc_2.plot_cluster(n_step=20, store_gif=False, gif_title=\"fof_kernel\")"
   ]
  },
  {
   "cell_type": "code",
   "execution_count": null,
   "metadata": {},
   "outputs": [],
   "source": [
    "vc_3 = VirgoCluster(file_name=None)\n",
    "vc_3.data = vc_2.cluster[vc_2.cluster_labels >=0]\n",
    "vc_3.scale_data()\n",
    "vc_3.print_datastats()"
   ]
  },
  {
   "cell_type": "code",
   "execution_count": null,
   "metadata": {
    "scrolled": false
   },
   "outputs": [],
   "source": [
    "vk_3 = VirgoKernel(vc_3, k_nystroem=1000, pca_comp=5)\n",
    "vk_3()\n",
    "vc_3.print_datastats()\n",
    "\n",
    "virgo_mixture = VirgoMixture(vc_3, n_comp=2)\n",
    "elbo = virgo_mixture.fit()\n",
    "\n",
    "print(f\"ELBO: {elbo}\")\n",
    "print(f\"Mixture weights {virgo_mixture.model.weights_}\")\n",
    "\n",
    "virgo_mixture.predict(remove_uncertain_labels=False)\n",
    "labels_removed = vc_3.get_labels(return_counts=True)\n",
    "print(labels_removed)\n",
    "\n",
    "vc_3.plot_cluster(n_step=25, plot_kernel_space=True, store_gif=False, gif_title=\"gmm_kernel_kspace\")\n",
    "vc_3.plot_cluster(n_step=25, store_gif=False, gif_title=\"gmm_kernel\")\n",
    "\n",
    "\n",
    "# vk_3 = VirgoSimpleKernel(vc_3)\n",
    "# vk_3()\n",
    "# vc_3.print_datastats()\n",
    "\n",
    "# virgo_mixture = VirgoMixture(vc_3, n_comp=4)\n",
    "# elbo = virgo_mixture.fit()\n",
    "\n",
    "# print(f\"ELBO: {elbo}\")\n",
    "# print(f\"Mixture weights {virgo_mixture.model.weights_}\")\n",
    "\n",
    "# virgo_mixture.predict(remove_uncertain_labels=True)\n",
    "# labels_removed = vc_3.get_labels(return_counts=True)\n",
    "# print(labels_removed)\n",
    "\n",
    "# vc_3.plot_cluster(n_step=5, plot_kernel_space=True, store_gif=False, gif_title=\"gmm_kernel_kspace\")\n",
    "# vc_3.plot_cluster(n_step=5, store_gif=False, gif_title=\"gmm_kernel\")"
   ]
  },
  {
   "cell_type": "code",
   "execution_count": null,
   "metadata": {},
   "outputs": [],
   "source": [
    "d_cleaner = LowDensityCleaner(vc_3, 1e-8)\n",
    "d_cleaner.clean()\n",
    "print(virgo_cluster.get_labels(return_counts=True))\n",
    "vc_3.plot_cluster(n_step=25)"
   ]
  },
  {
   "cell_type": "code",
   "execution_count": null,
   "metadata": {},
   "outputs": [],
   "source": []
  },
  {
   "cell_type": "code",
   "execution_count": null,
   "metadata": {},
   "outputs": [],
   "source": [
    "vc_4 = VirgoCluster(file_name=None)\n",
    "vc_4.data = vc_3.cluster[vc_3.cluster_labels >=0]\n",
    "vc_4.scale_data()\n",
    "vc_4.print_datastats()"
   ]
  },
  {
   "cell_type": "code",
   "execution_count": null,
   "metadata": {
    "scrolled": false
   },
   "outputs": [],
   "source": [
    "vk_4 = VirgoSimpleKernel(vc_4)\n",
    "vk_4()\n",
    "vc_4.print_datastats()\n",
    "\n",
    "virgo_mixture = VirgoMixture(vc_4, n_comp=6)\n",
    "elbo = virgo_mixture.fit()\n",
    "\n",
    "print(f\"ELBO: {elbo}\")\n",
    "print(f\"Mixture weights {virgo_mixture.model.weights_}\")\n",
    "\n",
    "virgo_mixture.predict(remove_uncertain_labels=True)\n",
    "labels_removed = vc_4.get_labels(return_counts=True)\n",
    "print(labels_removed)\n",
    "\n",
    "vc_4.plot_cluster(n_step=5, plot_kernel_space=True, store_gif=False, gif_title=\"gmm_kernel_kspace\")\n",
    "vc_4.plot_cluster(n_step=5, store_gif=False, gif_title=\"gmm_kernel\")"
   ]
  },
  {
   "cell_type": "code",
   "execution_count": null,
   "metadata": {},
   "outputs": [],
   "source": []
  },
  {
   "cell_type": "code",
   "execution_count": null,
   "metadata": {},
   "outputs": [],
   "source": []
  },
  {
   "cell_type": "code",
   "execution_count": null,
   "metadata": {},
   "outputs": [],
   "source": []
  },
  {
   "cell_type": "code",
   "execution_count": null,
   "metadata": {},
   "outputs": [],
   "source": []
  },
  {
   "cell_type": "code",
   "execution_count": null,
   "metadata": {},
   "outputs": [],
   "source": []
  },
  {
   "cell_type": "code",
   "execution_count": null,
   "metadata": {
    "scrolled": false
   },
   "outputs": [],
   "source": [
    "vk_4 = VirgoKernel(vc_4, k_nystroem=4000, pca_comp=5)\n",
    "vk_4()\n",
    "vc_4.print_datastats()\n",
    "\n",
    "virgo_mixture = VirgoMixture(vc_4, n_comp=8)\n",
    "elbo = virgo_mixture.fit()\n",
    "\n",
    "print(f\"ELBO: {elbo}\")\n",
    "print(f\"Mixture weights {virgo_mixture.model.weights_}\")\n",
    "\n",
    "virgo_mixture.predict(remove_uncertain_labels=True)\n",
    "labels_removed = vc_4.get_labels(return_counts=True)\n",
    "print(labels_removed)\n",
    "\n",
    "vc_4.plot_cluster(n_step=5, plot_kernel_space=True, store_gif=False, gif_title=\"gmm_kernel_kspace\")\n",
    "vc_4.plot_cluster(n_step=5, store_gif=False, gif_title=\"gmm_kernel\")"
   ]
  },
  {
   "cell_type": "code",
   "execution_count": null,
   "metadata": {
    "scrolled": false
   },
   "outputs": [],
   "source": [
    "vc_2.run_fof(linking_length=80., min_group_size=25, use_scaled_data=False)\n",
    "\n",
    "labels, counts = vc_2.get_labels(return_counts=True)\n",
    "print(labels, counts)\n",
    "print(counts[1:].sum())\n",
    "# vc_2.plot_cluster(n_step=1, plot_kernel_space=True, store_gif=False, gif_title=\"fof_kernel_kspace\")\n",
    "vc_2.plot_cluster(n_step=1, store_gif=False, gif_title=\"fof_kernel\")"
   ]
  },
  {
   "cell_type": "code",
   "execution_count": null,
   "metadata": {},
   "outputs": [],
   "source": []
  },
  {
   "cell_type": "code",
   "execution_count": null,
   "metadata": {},
   "outputs": [],
   "source": []
  },
  {
   "cell_type": "code",
   "execution_count": null,
   "metadata": {},
   "outputs": [],
   "source": [
    "vc_3 = VirgoCluster(file_name=None)\n",
    "vc_3.data = vc_2.cluster[vc_2.cluster_labels >=0]\n",
    "vc_3.scale_data(use_dim=[0, 1, 2])\n",
    "vc_3.print_datastats()"
   ]
  },
  {
   "cell_type": "code",
   "execution_count": null,
   "metadata": {},
   "outputs": [],
   "source": [
    "vk_3 = VirgoKernel(vc_3, k_nystroem=4000, pca_comp=5)\n",
    "vk_3()\n",
    "vc_3.print_datastats()"
   ]
  },
  {
   "cell_type": "code",
   "execution_count": null,
   "metadata": {},
   "outputs": [],
   "source": [
    "# rbf 800\n",
    "vc_3.run_fof(linking_length=50., min_group_size=200, use_scaled_data=False)\n",
    "\n",
    "labels, counts = vc_3.get_labels(return_counts=True)\n",
    "print(len(labels))\n",
    "print(labels, counts)\n",
    "vc_3.plot_cluster(n_step=1, store_gif=False, gif_title=\"fof_kernel\")"
   ]
  },
  {
   "cell_type": "code",
   "execution_count": null,
   "metadata": {
    "scrolled": false
   },
   "outputs": [],
   "source": [
    "# rbf 800\n",
    "vc_3.run_fof(linking_length=0.036, min_group_size=200, use_scaled_data=True)\n",
    "\n",
    "labels, counts = vc_3.get_labels(return_counts=True)\n",
    "print(len(labels))\n",
    "print(labels, counts)\n",
    "vc_3.plot_cluster(n_step=1, plot_kernel_space=True, store_gif=False, gif_title=\"fof_kernel_kspace\")\n",
    "vc_3.plot_cluster(n_step=1, store_gif=False, gif_title=\"fof_kernel\")"
   ]
  },
  {
   "cell_type": "code",
   "execution_count": null,
   "metadata": {
    "scrolled": false
   },
   "outputs": [],
   "source": [
    "virgo_mixture = VirgoMixture(vc_3, n_comp=6)\n",
    "elbo = virgo_mixture.fit()\n",
    "\n",
    "print(f\"ELBO: {elbo}\")\n",
    "print(f\"Mixture weights {virgo_mixture.model.weights_}\")\n",
    "\n",
    "virgo_mixture.predict(remove_uncertain_labels=True)\n",
    "labels_removed = vc_3.get_labels(return_counts=True)\n",
    "print(labels_removed)\n",
    "\n",
    "vc_3.plot_cluster(n_step=1, plot_kernel_space=True, store_gif=False, gif_title=\"gmm_kernel_kspace\")\n",
    "vc_3.plot_cluster(n_step=1, store_gif=False, gif_title=\"gmm_kernel\")"
   ]
  },
  {
   "cell_type": "code",
   "execution_count": null,
   "metadata": {},
   "outputs": [],
   "source": []
  },
  {
   "cell_type": "code",
   "execution_count": null,
   "metadata": {},
   "outputs": [],
   "source": []
  },
  {
   "cell_type": "code",
   "execution_count": null,
   "metadata": {
    "scrolled": false
   },
   "outputs": [],
   "source": [
    "virgo_clustering = VirgoClustering(vc_3, min_samples=100)\n",
    "virgo_clustering.predict()\n",
    "vc_3.remove_small_groups(remove_thresh=200)\n",
    "vc_3.sort_labels()\n",
    "labels_removed = vc_3.get_labels(return_counts=True)\n",
    "print(labels_removed)\n",
    "\n",
    "vc_3.plot_cluster(n_step=1, plot_kernel_space=True)\n",
    "vc_3.plot_cluster(n_step=1)"
   ]
  },
  {
   "cell_type": "code",
   "execution_count": null,
   "metadata": {},
   "outputs": [],
   "source": [
    "# virgo_clustering = VirgoClustering(vc_3, n_clusters=8, clustering_type=\"agglo\")\n",
    "# virgo_clustering.predict()\n",
    "# labels_removed = vc_3.get_labels(return_counts=True)\n",
    "# print(labels_removed)\n",
    "\n",
    "# vc_3.plot_cluster(n_step=1, plot_kernel_space=True)\n",
    "# vc_3.plot_cluster(n_step=1)"
   ]
  },
  {
   "cell_type": "code",
   "execution_count": null,
   "metadata": {},
   "outputs": [],
   "source": [
    "# virgo_clustering = VirgoClustering(virgo_cluster, n_clusters=10, clustering_type=\"spectral\")\n",
    "# virgo_clustering.predict()\n",
    "# labels_removed = virgo_cluster.get_labels(return_counts=True)\n",
    "# print(labels_removed)\n",
    "\n",
    "# virgo_cluster.plot_cluster(n_step=5, plot_kernel_space=True)\n",
    "# virgo_cluster.plot_cluster(n_step=5)"
   ]
  },
  {
   "cell_type": "code",
   "execution_count": null,
   "metadata": {
    "scrolled": false
   },
   "outputs": [],
   "source": [
    "virgo_clustering = VirgoClustering(vc_3, min_samples=10, clustering_type=\"dbscan\")\n",
    "virgo_clustering.predict()\n",
    "vc_3.remove_small_groups(remove_thresh=200)\n",
    "vc_3.sort_labels()\n",
    "labels_removed = vc_3.get_labels(return_counts=True)\n",
    "print(labels_removed)\n",
    "\n",
    "vc_3.plot_cluster(n_step=1, plot_kernel_space=True)\n",
    "vc_3.plot_cluster(n_step=1)"
   ]
  },
  {
   "cell_type": "code",
   "execution_count": null,
   "metadata": {},
   "outputs": [],
   "source": [
    "# import matplotlib.pyplot as plt"
   ]
  },
  {
   "cell_type": "code",
   "execution_count": null,
   "metadata": {},
   "outputs": [],
   "source": [
    "# elbos = []\n",
    "# bics = []\n",
    "# for i in range(2, 45, 3):\n",
    "#     virgo_mixture = VirgoMixture(virgo_cluster, n_comp=i, mixture_type=\"gaussian\")\n",
    "#     elbo = virgo_mixture.fit()\n",
    "#     elbos.append(elbo)\n",
    "#     bic = virgo_mixture.model.bic(virgo_cluster.scaled_data)\n",
    "#     bics.append(bic)\n",
    "#     print(i, elbo, bic)\n",
    "\n",
    "# print(elbos)\n",
    "# print(bics)"
   ]
  },
  {
   "cell_type": "code",
   "execution_count": null,
   "metadata": {},
   "outputs": [],
   "source": [
    "# plt.plot(elbos)\n",
    "# plt.show()   "
   ]
  },
  {
   "cell_type": "code",
   "execution_count": null,
   "metadata": {},
   "outputs": [],
   "source": [
    "# plt.plot(bics)\n",
    "# plt.show()  "
   ]
  }
 ],
 "metadata": {
  "kernelspec": {
   "display_name": "Python 3",
   "language": "python",
   "name": "python3"
  },
  "language_info": {
   "codemirror_mode": {
    "name": "ipython",
    "version": 3
   },
   "file_extension": ".py",
   "mimetype": "text/x-python",
   "name": "python",
   "nbconvert_exporter": "python",
   "pygments_lexer": "ipython3",
   "version": "3.8.10"
  }
 },
 "nbformat": 4,
 "nbformat_minor": 1
}
