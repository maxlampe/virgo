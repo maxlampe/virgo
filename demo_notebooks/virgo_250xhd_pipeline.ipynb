{
 "cells": [
  {
   "cell_type": "code",
   "execution_count": null,
   "id": "b6a6401c",
   "metadata": {},
   "outputs": [],
   "source": [
    "from virgo.cluster import VirgoCluster\n",
    "from virgo.kernel import VirgoKernel, VirgoSimpleKernel\n",
    "from virgo.mixture import VirgoMixture, VirgoClustering\n",
    "from virgo.cleaner import AutoDensityCleaner\n",
    "\n",
    "%load_ext autoreload\n",
    "%autoreload 2\n",
    "\n",
    "# %matplotlib notebook\n",
    "%matplotlib inline"
   ]
  },
  {
   "cell_type": "code",
   "execution_count": null,
   "id": "59ddba1f",
   "metadata": {},
   "outputs": [],
   "source": [
    "snap_id = 810\n",
    "filebase = f\"/home/max/Software/virgo/data/250x_hd/snap_{snap_id}\"\n",
    "\n",
    "# snap_id = 38\n",
    "# filebase = f\"/home/max/Software/virgo/data/250x_mhd/250x_mhd_snap_0{snap_id}\"\n",
    "\n",
    "virgo_cluster = VirgoCluster(\n",
    "    file_name=filebase, io_mode=1, cut_mach_dim=-2, n_max_data=800000, \n",
    ")\n",
    "# virgo_cluster.data = virgo_cluster.data[:, :-1]\n",
    "\n",
    "virgo_cluster.scale_data()\n",
    "virgo_cluster.print_datastats()\n",
    "virgo_cluster.plot_raw_hists(\n",
    "    bins=100, plot_range=[[2000., 8000.], [-6000., 1000.], [-3000., 6000.]]\n",
    ")"
   ]
  },
  {
   "cell_type": "code",
   "execution_count": null,
   "id": "cbc4fdb2",
   "metadata": {},
   "outputs": [],
   "source": [
    "virgo_kernel = VirgoKernel(virgo_cluster, k_nystroem=100, pca_comp=5)\n",
    "virgo_kernel()\n",
    "virgo_cluster.print_datastats()"
   ]
  },
  {
   "cell_type": "code",
   "execution_count": null,
   "id": "8379884e",
   "metadata": {
    "scrolled": false
   },
   "outputs": [],
   "source": [
    "virgo_mixture = VirgoMixture(virgo_cluster, n_comp=2)\n",
    "elbo = virgo_mixture.fit()\n",
    "\n",
    "print(f\"ELBO: {elbo}\")\n",
    "print(f\"Mixture weights {virgo_mixture.model.weights_}\")\n",
    "\n",
    "virgo_mixture.predict(remove_uncertain_labels=False)\n",
    "labels_removed = virgo_cluster.get_labels(return_counts=True)\n",
    "print(labels_removed)\n",
    "\n",
    "# virgo_cluster.cluster_labels[virgo_cluster.cluster_labels == 1] = 2\n",
    "# virgo_cluster.cluster_labels[virgo_cluster.cluster_labels == 1][0:100] = 4\n",
    "\n",
    "# virgo_cluster.plot_cluster(cmap_vmax=4, n_step=25, plot_kernel_space=True, store_gif=False, gif_title=\"nystroem_separation_kernelspace\")\n",
    "virgo_cluster.plot_cluster(cmap_vmax=4, n_step=25, store_gif=False, gif_title=\"nystroem_separation_kernelspace\")"
   ]
  },
  {
   "cell_type": "code",
   "execution_count": null,
   "id": "16e7d529",
   "metadata": {
    "scrolled": false
   },
   "outputs": [],
   "source": [
    "d_cleaner = AutoDensityCleaner(virgo_cluster)\n",
    "d_cleaner.clean()\n",
    "print(virgo_cluster.get_labels(return_counts=True))\n",
    "virgo_cluster.plot_cluster(n_step=10)"
   ]
  },
  {
   "cell_type": "code",
   "execution_count": null,
   "id": "8219f0e4",
   "metadata": {},
   "outputs": [],
   "source": [
    "vc_2 = VirgoCluster(file_name=None)\n",
    "vc_2.data = virgo_cluster.cluster[virgo_cluster.cluster_labels >=0][::10]\n",
    "vc_2.scale_data()\n",
    "vc_2.print_datastats()"
   ]
  },
  {
   "cell_type": "code",
   "execution_count": null,
   "id": "d786b33e",
   "metadata": {},
   "outputs": [],
   "source": [
    "virgo_kernel = VirgoKernel(\n",
    "    vc_2, k_nystroem=500, pca_comp=6, spatial_dim=[0, 1, 2, 3, 4, 5]\n",
    ")\n",
    "\n",
    "virgo_kernel(virgo_kernel.custom_kernel)\n",
    "vc_2.print_datastats()"
   ]
  },
  {
   "cell_type": "code",
   "execution_count": null,
   "id": "a0c7f9e8",
   "metadata": {
    "scrolled": false
   },
   "outputs": [],
   "source": [
    "# full data \n",
    "# ll = {\n",
    "#     \"750\": 0.101,\n",
    "#     \"760\": 0.14,\n",
    "#     \"770\": 0.24,\n",
    "#     \"780\": 0.190,\n",
    "#     \"790\": 0.125,\n",
    "#     \"800\": 0.115,\n",
    "#     \"810\": 0.130,\n",
    "#     \"820\": 0.13,\n",
    "# }\n",
    "#  n_max_data=800000 \n",
    "ll = {\n",
    "    \"750\": 0.11,\n",
    "    \"760\": 0.14,\n",
    "    \"770\": 0.2,\n",
    "    \"780\": 0.190,\n",
    "    \"790\": 0.15,\n",
    "    \"800\": 0.135,\n",
    "    \"810\": 0.11,\n",
    "    \"820\": 0.13,\n",
    "}\n",
    "\n",
    "print(snap_id, ll[f\"{snap_id}\"])\n",
    "\n",
    "vc_2.run_fof(\n",
    "#     linking_length=ll[f\"{snap_id}\"],\n",
    "#     linking_length=0.21,\n",
    "#     linking_length=ll_est,\n",
    "    min_group_size=700,\n",
    "    use_scaled_data=True,\n",
    ")\n",
    "\n",
    "labels, counts = vc_2.get_labels(return_counts=True)\n",
    "print(labels, counts)\n",
    "vc_2.plot_cluster(n_step=1, plot_kernel_space=True)\n",
    "vc_2.plot_cluster(n_step=1, maker_size=3.0)\n",
    "# vc_2.plot_cluster(n_step=1, remove_uncertain=False)"
   ]
  },
  {
   "cell_type": "code",
   "execution_count": null,
   "id": "7a37e2c2",
   "metadata": {},
   "outputs": [],
   "source": [
    "# labels, counts = vc_2.get_labels(return_counts=True)\n",
    "# vc_2.cluster_labels[vc_2.cluster_labels <0] = labels.shape[0]\n",
    "# vc_2.plot_cluster(n_step=1)"
   ]
  },
  {
   "cell_type": "code",
   "execution_count": null,
   "id": "5115dcb9",
   "metadata": {},
   "outputs": [],
   "source": [
    "# vc_2.export_cluster(f\"vc_methodD_{snap_id}\", remove_uncertain=False, remove_evno=True)"
   ]
  },
  {
   "cell_type": "code",
   "execution_count": null,
   "id": "64f77008",
   "metadata": {},
   "outputs": [],
   "source": [
    "# (snap_id, ll[f\"{snap_id}\"], vc_2.scaled_data.std(), vc_2.scaled_data.var(), get_avg_nn_dist(vc_2.scaled_data))"
   ]
  },
  {
   "cell_type": "code",
   "execution_count": null,
   "id": "675d0e75",
   "metadata": {},
   "outputs": [],
   "source": []
  }
 ],
 "metadata": {
  "kernelspec": {
   "display_name": "Python 3",
   "language": "python",
   "name": "python3"
  },
  "language_info": {
   "codemirror_mode": {
    "name": "ipython",
    "version": 3
   },
   "file_extension": ".py",
   "mimetype": "text/x-python",
   "name": "python",
   "nbconvert_exporter": "python",
   "pygments_lexer": "ipython3",
   "version": "3.8.10"
  }
 },
 "nbformat": 4,
 "nbformat_minor": 5
}
