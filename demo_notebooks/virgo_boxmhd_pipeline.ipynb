{
 "cells": [
  {
   "cell_type": "code",
   "execution_count": null,
   "id": "b6a6401c",
   "metadata": {
    "scrolled": true
   },
   "outputs": [],
   "source": [
    "from virgo.cluster import VirgoCluster\n",
    "from virgo.kernel import VirgoKernel, VirgoSimpleKernel\n",
    "from virgo.mixture import VirgoMixture, VirgoClustering\n",
    "from virgo.cleaner import LowDensityCleaner, AutoDensityCleaner\n",
    "\n",
    "%load_ext autoreload\n",
    "%autoreload 2\n",
    "\n",
    "# %matplotlib notebook\n",
    "%matplotlib inline"
   ]
  },
  {
   "cell_type": "code",
   "execution_count": null,
   "id": "59ddba1f",
   "metadata": {
    "scrolled": true
   },
   "outputs": [],
   "source": [
    "filebase = f\"/home/max/Software/virgo/data/box_mhd/MHD_box_snap_019\"\n",
    "\n",
    "virgo_cluster = VirgoCluster(\n",
    "    file_name=filebase, io_mode=1, cut_mach_dim=-2, n_max_data=1000000, \n",
    ")\n",
    "# virgo_cluster.data = virgo_cluster.data[:, :-1]\n",
    "\n",
    "virgo_cluster.scale_data()\n",
    "virgo_cluster.print_datastats()\n",
    "virgo_cluster.plot_raw_hists(\n",
    "    bins=100, plot_range=None,\n",
    ")"
   ]
  },
  {
   "cell_type": "code",
   "execution_count": null,
   "id": "cbc4fdb2",
   "metadata": {
    "scrolled": true
   },
   "outputs": [],
   "source": [
    "virgo_kernel = VirgoKernel(virgo_cluster, k_nystroem=120, pca_comp=5)\n",
    "virgo_kernel()\n",
    "virgo_cluster.print_datastats()"
   ]
  },
  {
   "cell_type": "code",
   "execution_count": null,
   "id": "f66a6881",
   "metadata": {
    "scrolled": true
   },
   "outputs": [],
   "source": [
    "virgo_mixture = VirgoMixture(virgo_cluster, n_comp=35)\n",
    "elbo = virgo_mixture.fit()\n",
    "\n",
    "print(f\"ELBO: {elbo}\")\n",
    "print(f\"Mixture weights {virgo_mixture.model.weights_}\")\n",
    "\n",
    "virgo_mixture.predict(remove_uncertain_labels=False)\n",
    "labels_removed = virgo_cluster.get_labels(return_counts=True)\n",
    "print(labels_removed)\n",
    "\n",
    "# virgo_cluster.plot_cluster(cmap_vmax=4, n_step=25, plot_kernel_space=True, store_gif=False, gif_title=\"nystroem_separation_kernelspace\")\n",
    "virgo_cluster.plot_cluster(n_step=25, store_gif=False, gif_title=\"nystroem_separation_kernelspace\")"
   ]
  },
  {
   "cell_type": "code",
   "execution_count": null,
   "id": "d8d78cb5",
   "metadata": {
    "scrolled": true
   },
   "outputs": [],
   "source": [
    "auto_cleaner = AutoDensityCleaner(virgo_cluster, pick_top=10)\n",
    "auto_cleaner.clean()\n",
    "print(virgo_cluster.get_labels(return_counts=True))\n",
    "virgo_cluster.plot_cluster(n_step=5, store_gif=False, gif_title=f\"box_gmm35_big10\")"
   ]
  },
  {
   "cell_type": "code",
   "execution_count": null,
   "id": "f3428660",
   "metadata": {
    "scrolled": true
   },
   "outputs": [],
   "source": [
    "# n_max=1000000, gmm=35, top 10\n",
    "# k_nystroem=2000, comp=5, k_nystroem=1000\n",
    "# 0 group  [0.162, 100]\n",
    "# 1 single [0.16, 100]\n",
    "# 2 single [0.2, 100]\n",
    "# 3 two    [0.25, 100]\n",
    "# 4 two    [0.3, 100]\n",
    "# 5 single [0.2, 100]\n",
    "# 6 two    [0.2, 100]\n",
    "# 7 barely [0.18, 50]\n",
    "# 8 barely [0.2, 50]\n",
    "# 9 barely [0.25, 100]\n",
    "for i in virgo_cluster.get_labels():\n",
    "    if i in [-1, ]:\n",
    "        continue\n",
    "\n",
    "    vc_2 = VirgoCluster(file_name=None)\n",
    "    vc_2.data = virgo_cluster.cluster[virgo_cluster.cluster_labels == i]\n",
    "    vc_2.scale_data()\n",
    "    \n",
    "    virgo_kernel_2 = VirgoKernel(vc_2, k_nystroem=2000, pca_comp=5)\n",
    "    virgo_kernel_2()\n",
    "    vc_2.print_datastats()\n",
    "    \n",
    "    virgo_mixture_2 = VirgoMixture(vc_2, n_comp=10)\n",
    "    elbo = virgo_mixture_2.fit()\n",
    "    virgo_mixture_2.predict(remove_uncertain_labels=False)\n",
    "    labels_removed = vc_2.get_labels(return_counts=True)\n",
    "    print(labels_removed)\n",
    "    vc_2.plot_cluster(n_step=5)\n",
    "    \n",
    "    auto_cleaner = AutoDensityCleaner(vc_2)\n",
    "    auto_cleaner.clean()\n",
    "    print(vc_2.get_labels(return_counts=True))\n",
    "    vc_2.plot_cluster(n_step=5)\n",
    "    \n",
    "    vc_3 = VirgoCluster(file_name=None)\n",
    "    vc_3.data = vc_2.cluster[vc_2.cluster_labels >=0]\n",
    "    vc_3.scale_data()\n",
    "    \n",
    "    virgo_kernel_3 = VirgoKernel(\n",
    "        vc_3, k_nystroem=1000, pca_comp=6, spatial_dim=[0, 1, 2, 3, 4, 5]\n",
    "    )\n",
    "    virgo_kernel_3(virgo_kernel_3.custom_kernel)\n",
    "    \n",
    "#     ll_est = pred_ll(vc_2.scaled_data, i)\n",
    "#     ll_est = get_avg_nn_dist(vc_2.scaled_data, ind=i)\n",
    "#     print(\"LL \", i, ll_est, vc_2.scaled_data.std(), vc_2.scaled_data.var())\n",
    "    vc_3.run_fof(\n",
    "#         linking_length=ll_est,\n",
    "        min_group_size=100,\n",
    "        use_scaled_data=True,\n",
    "    )\n",
    "\n",
    "    labels, counts = vc_3.get_labels(return_counts=True)\n",
    "    print(labels, counts)\n",
    "#     vc_3.plot_cluster(n_step=1, plot_kernel_space=True)\n",
    "    vc_3.plot_cluster(n_step=1, maker_size=3.0)\n",
    "#     vc_3.plot_cluster(n_step=1, maker_size=3.0, store_gif=True, gif_title=f\"box_{i}\")\n",
    "\n",
    "    break\n",
    "    vc_3.export_cluster(f\"vc_box_set{i}\", remove_uncertain=False, remove_evno=True)"
   ]
  },
  {
   "cell_type": "code",
   "execution_count": null,
   "id": "7fb25b2a",
   "metadata": {
    "scrolled": true
   },
   "outputs": [],
   "source": []
  }
 ],
 "metadata": {
  "kernelspec": {
   "display_name": "Python 3",
   "language": "python",
   "name": "python3"
  },
  "language_info": {
   "codemirror_mode": {
    "name": "ipython",
    "version": 3
   },
   "file_extension": ".py",
   "mimetype": "text/x-python",
   "name": "python",
   "nbconvert_exporter": "python",
   "pygments_lexer": "ipython3",
   "version": "3.8.10"
  }
 },
 "nbformat": 4,
 "nbformat_minor": 5
}
