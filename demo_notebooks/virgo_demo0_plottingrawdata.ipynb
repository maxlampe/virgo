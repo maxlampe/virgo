{
 "cells": [
  {
   "cell_type": "markdown",
   "metadata": {},
   "source": [
    "# Plotting raw simulation data\n",
    "\n",
    "This notebook visualized the added raw data sets. snap_750 corresponds to ClustHD_1 and snap_790 to ClustHD_2 in the paper."
   ]
  },
  {
   "cell_type": "code",
   "execution_count": null,
   "metadata": {},
   "outputs": [],
   "source": [
    "from virgo.data.cluster import VirgoCluster\n",
    "import os\n",
    "\n",
    "%load_ext autoreload\n",
    "%autoreload 2\n",
    "\n",
    "%matplotlib inline"
   ]
  },
  {
   "cell_type": "code",
   "execution_count": null,
   "metadata": {},
   "outputs": [],
   "source": [
    "snaps = [\n",
    "    \"/data/snap_750\",\n",
    "    \"/data/snap_790\",\n",
    "]\n",
    "cdir = os.getcwd()\n",
    "\n",
    "for filebase in snaps:\n",
    "    virgo_cluster = VirgoCluster(file_name=cdir + filebase, io_mode=1)\n",
    "    virgo_cluster.plot_raw_hists(bins=200)"
   ]
  },
  {
   "cell_type": "code",
   "execution_count": null,
   "metadata": {},
   "outputs": [],
   "source": []
  }
 ],
 "metadata": {
  "kernelspec": {
   "display_name": "Python 3",
   "language": "python",
   "name": "python3"
  },
  "language_info": {
   "codemirror_mode": {
    "name": "ipython",
    "version": 3
   },
   "file_extension": ".py",
   "mimetype": "text/x-python",
   "name": "python",
   "nbconvert_exporter": "python",
   "pygments_lexer": "ipython3",
   "version": "3.8.10"
  }
 },
 "nbformat": 4,
 "nbformat_minor": 5
}
