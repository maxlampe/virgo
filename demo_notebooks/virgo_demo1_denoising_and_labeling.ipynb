{
 "cells": [
  {
   "cell_type": "markdown",
   "metadata": {},
   "source": [
    "# Virgo pipeline until labeled subset\n",
    "\n",
    "In this notebook, we present the application of Virgo. The snap id 750 and 790 correspond to ClustHD_1 and ClustHD_2 respectively from the paper. All parameters are tuned to run on the stated hardware in the paper.\n",
    "\n",
    "Optionally, the notebook can be used interactively and gifs of the results can also be created. To create gifs, set the \"store_gif\" paramter to True in the plotting functions."
   ]
  },
  {
   "cell_type": "code",
   "execution_count": null,
   "metadata": {},
   "outputs": [],
   "source": [
    "from virgo.data.cluster import VirgoCluster\n",
    "from virgo.data.cleaner import AutoDensityCleaner\n",
    "from virgo.models.kernel import VirgoKernel\n",
    "from virgo.models.mixture import VirgoMixture\n",
    "import os\n",
    "\n",
    "%load_ext autoreload\n",
    "%autoreload 2\n",
    "\n",
    "# %matplotlib notebook\n",
    "%matplotlib inline"
   ]
  },
  {
   "cell_type": "markdown",
   "metadata": {},
   "source": [
    "### Import raw data set\n",
    "\n",
    "Available snap ids in supplementary material: 750 and 790"
   ]
  },
  {
   "cell_type": "code",
   "execution_count": null,
   "metadata": {},
   "outputs": [],
   "source": [
    "snap_id = 750\n",
    "\n",
    "cdir = os.getcwd()\n",
    "filebase = cdir + f\"/data/snap_{snap_id}\"\n",
    "\n",
    "virgo_cluster = VirgoCluster(\n",
    "    file_name=filebase, io_mode=1, cut_mach_dim=-2, n_max_data=800000, \n",
    ")\n",
    "\n",
    "virgo_cluster.scale_data()\n",
    "virgo_cluster.print_datastats()\n",
    "virgo_cluster.plot_raw_hists(bins=100)"
   ]
  },
  {
   "cell_type": "markdown",
   "metadata": {},
   "source": [
    "### Denoise and center raw data set\n",
    "\n",
    "Use Nystroem approximation, staitonary RBF kernel, PCA and GMM. Densenst GMM component is kept as result."
   ]
  },
  {
   "cell_type": "code",
   "execution_count": null,
   "metadata": {},
   "outputs": [],
   "source": [
    "virgo_kernel = VirgoKernel(virgo_cluster, k_nystroem=100, pca_comp=5)\n",
    "virgo_kernel()\n",
    "virgo_cluster.print_datastats()"
   ]
  },
  {
   "cell_type": "code",
   "execution_count": null,
   "metadata": {
    "scrolled": false
   },
   "outputs": [],
   "source": [
    "virgo_mixture = VirgoMixture(virgo_cluster, n_comp=2)\n",
    "elbo = virgo_mixture.fit()\n",
    "\n",
    "virgo_mixture.predict(remove_uncertain_labels=False)\n",
    "labels_removed = virgo_cluster.get_labels(return_counts=True)\n",
    "print(\"Classes and number of particles:\\t\", labels_removed)\n",
    "\n",
    "virgo_cluster.plot_cluster(\n",
    "    cmap_vmax=2,\n",
    "    n_step=25,\n",
    "    plot_kernel_space=True,\n",
    "    store_gif=False,\n",
    "    gif_title=f\"virgo_denoise{snap_id}_kernelspace\",\n",
    ")\n",
    "virgo_cluster.plot_cluster(\n",
    "    cmap_vmax=2,\n",
    "    n_step=25,\n",
    "    store_gif=False,\n",
    "    gif_title=f\"virgo_denoise{snap_id}\",\n",
    ")"
   ]
  },
  {
   "cell_type": "code",
   "execution_count": null,
   "metadata": {
    "scrolled": false
   },
   "outputs": [],
   "source": [
    "d_cleaner = AutoDensityCleaner(virgo_cluster)\n",
    "d_cleaner.clean()\n",
    "print(virgo_cluster.get_labels(return_counts=True))\n",
    "virgo_cluster.plot_cluster(n_step=10)"
   ]
  },
  {
   "cell_type": "markdown",
   "metadata": {},
   "source": [
    "### Create labeled subset of denoised data\n",
    "\n",
    "Using a physically motivated kernel function, PCA and a FoF with automatic linking length estimator, we create a labeled subset of the original data set. This step reduced the data set size significantly, but turns the problem into a supervised classification."
   ]
  },
  {
   "cell_type": "code",
   "execution_count": null,
   "metadata": {},
   "outputs": [],
   "source": [
    "vc_2 = VirgoCluster(file_name=None)\n",
    "vc_2.data = virgo_cluster.cluster[virgo_cluster.cluster_labels >=0][::10]\n",
    "vc_2.scale_data()\n",
    "vc_2.print_datastats()"
   ]
  },
  {
   "cell_type": "code",
   "execution_count": null,
   "metadata": {},
   "outputs": [],
   "source": [
    "virgo_kernel = VirgoKernel(\n",
    "    vc_2, k_nystroem=500, pca_comp=6, spatial_dim=[0, 1, 2, 3, 4, 5]\n",
    ")\n",
    "\n",
    "virgo_kernel(virgo_kernel.custom_kernel)\n",
    "vc_2.print_datastats()"
   ]
  },
  {
   "cell_type": "code",
   "execution_count": null,
   "metadata": {
    "scrolled": false
   },
   "outputs": [],
   "source": [
    "vc_2.run_fof(\n",
    "    min_group_size=600,\n",
    "    use_scaled_data=True,\n",
    ")\n",
    "\n",
    "labels, counts = vc_2.get_labels(return_counts=True)\n",
    "print(\"Classes and number of particles:\\t\", labels_removed)\n",
    "\n",
    "vc_2.plot_cluster(\n",
    "    n_step=1,\n",
    "    plot_kernel_space=True,\n",
    "    store_gif=False,\n",
    "    gif_title=f\"snap{snap_id}_fit_kspace\",\n",
    ")\n",
    "vc_2.plot_cluster(\n",
    "    n_step=1,\n",
    "    maker_size=3.0,\n",
    "    store_gif=False,\n",
    "    gif_title=f\"snap{snap_id}_fit_sub\",\n",
    ")"
   ]
  },
  {
   "cell_type": "code",
   "execution_count": null,
   "metadata": {
    "scrolled": false
   },
   "outputs": [],
   "source": [
    "labels, counts = vc_2.get_labels(return_counts=True)\n",
    "vc_2.cluster_labels[vc_2.cluster_labels < 0] = labels.shape[0] - 1 \n",
    "vc_2.plot_cluster(\n",
    "    n_step=1,\n",
    "    store_gif=False,\n",
    "    gif_title=f\"snap{snap_id}_fit_sub_wnoise\",\n",
    ")"
   ]
  },
  {
   "cell_type": "markdown",
   "metadata": {},
   "source": [
    "### Export result for SV-DKL scalability "
   ]
  },
  {
   "cell_type": "code",
   "execution_count": null,
   "metadata": {},
   "outputs": [],
   "source": [
    "# vc_2.export_cluster(f\"vc_fitted_{snap_id}\", remove_uncertain=False, remove_evno=True)"
   ]
  }
 ],
 "metadata": {
  "kernelspec": {
   "display_name": "Python 3",
   "language": "python",
   "name": "python3"
  },
  "language_info": {
   "codemirror_mode": {
    "name": "ipython",
    "version": 3
   },
   "file_extension": ".py",
   "mimetype": "text/x-python",
   "name": "python",
   "nbconvert_exporter": "python",
   "pygments_lexer": "ipython3",
   "version": "3.8.10"
  }
 },
 "nbformat": 4,
 "nbformat_minor": 5
}
