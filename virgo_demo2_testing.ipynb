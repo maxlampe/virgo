{
 "cells": [
  {
   "cell_type": "markdown",
   "metadata": {},
   "source": [
    "# Virgo Demo 2 - Testing"
   ]
  },
  {
   "cell_type": "code",
   "execution_count": 1,
   "metadata": {},
   "outputs": [],
   "source": [
    "from virgo.cluster import VirgoCluster\n",
    "from virgo.kernel import VirgoKernel\n",
    "from virgo.mixture import VirgoMixture\n",
    "from virgo.cleaner import GaussianMixtureCleaner, LowDensityCleaner\n",
    "\n",
    "%load_ext autoreload\n",
    "%autoreload 2\n",
    "%matplotlib notebook\n",
    "# https://towardsdatascience.com/transform-data-to-high-dimensional-kernel-space-87d62b670e0f"
   ]
  },
  {
   "cell_type": "code",
   "execution_count": 2,
   "metadata": {},
   "outputs": [
    {
     "ename": "KeyboardInterrupt",
     "evalue": "",
     "output_type": "error",
     "traceback": [
      "\u001b[0;31m---------------------------------------------------------------------------\u001b[0m",
      "\u001b[0;31mKeyboardInterrupt\u001b[0m                         Traceback (most recent call last)",
      "\u001b[0;32m<ipython-input-2-ce9d1ed53268>\u001b[0m in \u001b[0;36m<module>\u001b[0;34m\u001b[0m\n\u001b[1;32m      1\u001b[0m \u001b[0mfile_name\u001b[0m \u001b[0;34m=\u001b[0m \u001b[0;34m\"/home/max/Software/virgo/data/data.txt\"\u001b[0m\u001b[0;34m\u001b[0m\u001b[0;34m\u001b[0m\u001b[0m\n\u001b[0;32m----> 2\u001b[0;31m \u001b[0mvirgo_cluster\u001b[0m \u001b[0;34m=\u001b[0m \u001b[0mVirgoCluster\u001b[0m\u001b[0;34m(\u001b[0m\u001b[0mfile_name\u001b[0m\u001b[0;34m=\u001b[0m\u001b[0mfile_name\u001b[0m\u001b[0;34m)\u001b[0m\u001b[0;34m\u001b[0m\u001b[0;34m\u001b[0m\u001b[0m\n\u001b[0m\u001b[1;32m      3\u001b[0m \u001b[0mvirgo_cluster\u001b[0m\u001b[0;34m.\u001b[0m\u001b[0mscale_data\u001b[0m\u001b[0;34m(\u001b[0m\u001b[0;34m)\u001b[0m\u001b[0;34m\u001b[0m\u001b[0;34m\u001b[0m\u001b[0m\n\u001b[1;32m      4\u001b[0m \u001b[0mvirgo_kernel\u001b[0m \u001b[0;34m=\u001b[0m \u001b[0mVirgoKernel\u001b[0m\u001b[0;34m(\u001b[0m\u001b[0mvirgo_cluster\u001b[0m\u001b[0;34m)\u001b[0m\u001b[0;34m\u001b[0m\u001b[0;34m\u001b[0m\u001b[0m\n\u001b[1;32m      5\u001b[0m \u001b[0mvirgo_kernel\u001b[0m\u001b[0;34m(\u001b[0m\u001b[0;34m)\u001b[0m\u001b[0;34m\u001b[0m\u001b[0;34m\u001b[0m\u001b[0m\n",
      "\u001b[0;32m~/Software/virgo/virgo/cluster.py\u001b[0m in \u001b[0;36m__init__\u001b[0;34m(self, file_name, shuffle_data)\u001b[0m\n\u001b[1;32m     18\u001b[0m     \u001b[0;32mdef\u001b[0m \u001b[0m__init__\u001b[0m\u001b[0;34m(\u001b[0m\u001b[0mself\u001b[0m\u001b[0;34m,\u001b[0m \u001b[0mfile_name\u001b[0m\u001b[0;34m:\u001b[0m \u001b[0mstr\u001b[0m\u001b[0;34m,\u001b[0m \u001b[0mshuffle_data\u001b[0m\u001b[0;34m:\u001b[0m \u001b[0mbool\u001b[0m \u001b[0;34m=\u001b[0m \u001b[0;32mTrue\u001b[0m\u001b[0;34m)\u001b[0m\u001b[0;34m:\u001b[0m\u001b[0;34m\u001b[0m\u001b[0;34m\u001b[0m\u001b[0m\n\u001b[1;32m     19\u001b[0m         \u001b[0mself\u001b[0m\u001b[0;34m.\u001b[0m\u001b[0m_fname\u001b[0m \u001b[0;34m=\u001b[0m \u001b[0mfile_name\u001b[0m\u001b[0;34m\u001b[0m\u001b[0;34m\u001b[0m\u001b[0m\n\u001b[0;32m---> 20\u001b[0;31m         \u001b[0mself\u001b[0m\u001b[0;34m.\u001b[0m\u001b[0mdata\u001b[0m \u001b[0;34m=\u001b[0m \u001b[0mself\u001b[0m\u001b[0;34m.\u001b[0m\u001b[0m_load_data\u001b[0m\u001b[0;34m(\u001b[0m\u001b[0mself\u001b[0m\u001b[0;34m.\u001b[0m\u001b[0m_fname\u001b[0m\u001b[0;34m,\u001b[0m \u001b[0mshuffle\u001b[0m\u001b[0;34m=\u001b[0m\u001b[0mshuffle_data\u001b[0m\u001b[0;34m)\u001b[0m\u001b[0;34m\u001b[0m\u001b[0;34m\u001b[0m\u001b[0m\n\u001b[0m\u001b[1;32m     21\u001b[0m         \u001b[0mself\u001b[0m\u001b[0;34m.\u001b[0m\u001b[0mscaler\u001b[0m \u001b[0;34m=\u001b[0m \u001b[0;32mNone\u001b[0m\u001b[0;34m\u001b[0m\u001b[0;34m\u001b[0m\u001b[0m\n\u001b[1;32m     22\u001b[0m         \u001b[0mself\u001b[0m\u001b[0;34m.\u001b[0m\u001b[0mscaled_data\u001b[0m \u001b[0;34m=\u001b[0m \u001b[0;32mNone\u001b[0m\u001b[0;34m\u001b[0m\u001b[0;34m\u001b[0m\u001b[0m\n",
      "\u001b[0;32m~/Software/virgo/virgo/cluster.py\u001b[0m in \u001b[0;36m_load_data\u001b[0;34m(file_name, shuffle, n_max)\u001b[0m\n\u001b[1;32m     99\u001b[0m         \u001b[0;34m\"\"\"\"\"\"\u001b[0m\u001b[0;34m\u001b[0m\u001b[0;34m\u001b[0m\u001b[0m\n\u001b[1;32m    100\u001b[0m \u001b[0;34m\u001b[0m\u001b[0m\n\u001b[0;32m--> 101\u001b[0;31m         \u001b[0mdata\u001b[0m \u001b[0;34m=\u001b[0m \u001b[0mnp\u001b[0m\u001b[0;34m.\u001b[0m\u001b[0mloadtxt\u001b[0m\u001b[0;34m(\u001b[0m\u001b[0mfile_name\u001b[0m\u001b[0;34m)\u001b[0m\u001b[0;34m\u001b[0m\u001b[0;34m\u001b[0m\u001b[0m\n\u001b[0m\u001b[1;32m    102\u001b[0m         \u001b[0;32mif\u001b[0m \u001b[0mshuffle\u001b[0m\u001b[0;34m:\u001b[0m\u001b[0;34m\u001b[0m\u001b[0;34m\u001b[0m\u001b[0m\n\u001b[1;32m    103\u001b[0m             \u001b[0mnp\u001b[0m\u001b[0;34m.\u001b[0m\u001b[0mrandom\u001b[0m\u001b[0;34m.\u001b[0m\u001b[0mshuffle\u001b[0m\u001b[0;34m(\u001b[0m\u001b[0mdata\u001b[0m\u001b[0;34m)\u001b[0m\u001b[0;34m\u001b[0m\u001b[0;34m\u001b[0m\u001b[0m\n",
      "\u001b[0;32m~/.local/lib/python3.8/site-packages/numpy/lib/npyio.py\u001b[0m in \u001b[0;36mloadtxt\u001b[0;34m(fname, dtype, comments, delimiter, converters, skiprows, usecols, unpack, ndmin, encoding, max_rows)\u001b[0m\n\u001b[1;32m   1145\u001b[0m                 \u001b[0mnshape\u001b[0m\u001b[0;34m[\u001b[0m\u001b[0;36m0\u001b[0m\u001b[0;34m]\u001b[0m \u001b[0;34m+=\u001b[0m \u001b[0mlen\u001b[0m\u001b[0;34m(\u001b[0m\u001b[0mx\u001b[0m\u001b[0;34m)\u001b[0m\u001b[0;34m\u001b[0m\u001b[0;34m\u001b[0m\u001b[0m\n\u001b[1;32m   1146\u001b[0m                 \u001b[0mX\u001b[0m\u001b[0;34m.\u001b[0m\u001b[0mresize\u001b[0m\u001b[0;34m(\u001b[0m\u001b[0mnshape\u001b[0m\u001b[0;34m,\u001b[0m \u001b[0mrefcheck\u001b[0m\u001b[0;34m=\u001b[0m\u001b[0;32mFalse\u001b[0m\u001b[0;34m)\u001b[0m\u001b[0;34m\u001b[0m\u001b[0;34m\u001b[0m\u001b[0m\n\u001b[0;32m-> 1147\u001b[0;31m                 \u001b[0mX\u001b[0m\u001b[0;34m[\u001b[0m\u001b[0mpos\u001b[0m\u001b[0;34m:\u001b[0m\u001b[0;34m,\u001b[0m \u001b[0;34m...\u001b[0m\u001b[0;34m]\u001b[0m \u001b[0;34m=\u001b[0m \u001b[0mx\u001b[0m\u001b[0;34m\u001b[0m\u001b[0;34m\u001b[0m\u001b[0m\n\u001b[0m\u001b[1;32m   1148\u001b[0m     \u001b[0;32mfinally\u001b[0m\u001b[0;34m:\u001b[0m\u001b[0;34m\u001b[0m\u001b[0;34m\u001b[0m\u001b[0m\n\u001b[1;32m   1149\u001b[0m         \u001b[0;32mif\u001b[0m \u001b[0mfown\u001b[0m\u001b[0;34m:\u001b[0m\u001b[0;34m\u001b[0m\u001b[0;34m\u001b[0m\u001b[0m\n",
      "\u001b[0;31mKeyboardInterrupt\u001b[0m: "
     ]
    }
   ],
   "source": [
    "file_name = \"/home/max/Software/virgo/data/data.txt\"\n",
    "virgo_cluster = VirgoCluster(file_name=file_name)\n",
    "virgo_cluster.scale_data()\n",
    "virgo_kernel = VirgoKernel(virgo_cluster)\n",
    "virgo_kernel()\n",
    "virgo_cluster.print_datastats()"
   ]
  },
  {
   "cell_type": "code",
   "execution_count": null,
   "metadata": {},
   "outputs": [],
   "source": [
    "if True:\n",
    "    virgo_mixture = VirgoMixture(virgo_cluster, n_comp=12)\n",
    "elif True:\n",
    "    virgo_mixture = VirgoMixture(virgo_cluster, n_comp=12, fit_dim_ind=[0, 1, 2, -2, -1])\n",
    "else:\n",
    "    virgo_mixture = VirgoMixture(\n",
    "        virgo_cluster,\n",
    "        n_comp=15,\n",
    "        mixture_type=\"bayesian_gaussian\",\n",
    "        fit_dim_ind=[0, 1, 2, -2, -1],\n",
    "    )\n",
    "    \n",
    "elbo = virgo_mixture.fit()\n",
    "print(elbo)\n",
    "print(virgo_mixture.model.weights_)\n",
    "\n",
    "virgo_mixture.predict()\n",
    "labels_all = virgo_cluster.get_labels(return_counts=True)\n",
    "print(labels_all)\n",
    "\n",
    "virgo_mixture.predict(remove_uncertain_labels=True)\n",
    "labels_removed = virgo_cluster.get_labels(return_counts=True)\n",
    "print(labels_removed)\n",
    "print(\"Diff per class: \", labels_all[1] - labels_removed[1][1:])\n",
    "print(\"Rel loss per class: \", (labels_all[1] - labels_removed[1][1:]) / labels_all[1])\n",
    "\n",
    "virgo_cluster.plot_cluster(n_step=50)"
   ]
  },
  {
   "cell_type": "code",
   "execution_count": null,
   "metadata": {
    "scrolled": true
   },
   "outputs": [],
   "source": [
    "virgo_cluster.plot_cluster(n_step=50, remove_uncertain=False)"
   ]
  },
  {
   "cell_type": "code",
   "execution_count": null,
   "metadata": {
    "scrolled": true
   },
   "outputs": [],
   "source": [
    "virgo_cluster.plot_cluster(n_step=10, remove_uncertain=False, cluster_label=[-1])"
   ]
  },
  {
   "cell_type": "markdown",
   "metadata": {},
   "source": [
    "## Visualize different clusters\n",
    "\n",
    "The last run evaluation will be visualized. "
   ]
  },
  {
   "cell_type": "code",
   "execution_count": null,
   "metadata": {
    "scrolled": true
   },
   "outputs": [],
   "source": [
    "for i in virgo_cluster.get_labels()[1:]:\n",
    "    virgo_cluster.plot_cluster(n_step=10, cluster_label=[i])"
   ]
  },
  {
   "cell_type": "code",
   "execution_count": null,
   "metadata": {},
   "outputs": [],
   "source": [
    "focus = 3\n",
    "for i in virgo_cluster.get_labels()[1:]:\n",
    "    if i == focus:\n",
    "        continue\n",
    "    virgo_cluster.plot_cluster(n_step=10, cluster_label=[focus, i])"
   ]
  },
  {
   "cell_type": "markdown",
   "metadata": {},
   "source": [
    "## Testing different fit configurations\n",
    "\n",
    "ELBO studies for different models and used input dimensions."
   ]
  },
  {
   "cell_type": "code",
   "execution_count": null,
   "metadata": {},
   "outputs": [],
   "source": [
    "elbos = []\n",
    "for i in range(2, 25, 3):\n",
    "    virgo_mixture = VirgoMixture(virgo_cluster, n_comp=i, mixture_type=\"gaussian\", fit_dim_ind=[0, 1, 2, -2, -1])\n",
    "    elbo = virgo_mixture.fit()\n",
    "    elbos.append(elbo)\n",
    "    print(i, elbo)\n",
    "\n",
    "print(elbos)\n",
    "plt.plot(elbos)\n",
    "plt.show()   "
   ]
  },
  {
   "cell_type": "markdown",
   "metadata": {},
   "source": [
    "### GaussianMixture cleaner"
   ]
  },
  {
   "cell_type": "code",
   "execution_count": null,
   "metadata": {},
   "outputs": [],
   "source": [
    "virgo_cluster.plot_cluster(n_step=10, cluster_label=[6])"
   ]
  },
  {
   "cell_type": "code",
   "execution_count": null,
   "metadata": {},
   "outputs": [],
   "source": [
    "gm_cleaner = GaussianMixtureCleaner(virgo_cluster)\n",
    "print(gm_cleaner.unique_labels)\n",
    "gm_cleaner.clean()\n",
    "print(gm_cleaner.unique_labels)"
   ]
  },
  {
   "cell_type": "code",
   "execution_count": null,
   "metadata": {},
   "outputs": [],
   "source": [
    "virgo_cluster.plot_cluster(n_step=10, cluster_label=[6])"
   ]
  },
  {
   "cell_type": "code",
   "execution_count": null,
   "metadata": {
    "scrolled": true
   },
   "outputs": [],
   "source": [
    "for i in virgo_cluster.get_labels()[1:]:\n",
    "    virgo_cluster.plot_cluster(n_step=10, cluster_label=[i])"
   ]
  },
  {
   "cell_type": "markdown",
   "metadata": {},
   "source": [
    "### Low density cleaner"
   ]
  },
  {
   "cell_type": "code",
   "execution_count": null,
   "metadata": {},
   "outputs": [],
   "source": [
    "virgo_cluster.plot_cluster(n_step=50)\n",
    "virgo_cluster.get_labels(return_counts=True)"
   ]
  },
  {
   "cell_type": "code",
   "execution_count": null,
   "metadata": {},
   "outputs": [],
   "source": [
    "d_cleaner = LowDensityCleaner(virgo_cluster, 1e-10)\n",
    "d_cleaner.clean()\n",
    "virgo_cluster.plot_cluster(n_step=50)\n",
    "virgo_cluster.get_labels(return_counts=True)"
   ]
  },
  {
   "cell_type": "code",
   "execution_count": null,
   "metadata": {},
   "outputs": [],
   "source": []
  },
  {
   "cell_type": "code",
   "execution_count": null,
   "metadata": {},
   "outputs": [],
   "source": []
  },
  {
   "cell_type": "code",
   "execution_count": null,
   "metadata": {},
   "outputs": [],
   "source": []
  },
  {
   "cell_type": "code",
   "execution_count": null,
   "metadata": {},
   "outputs": [],
   "source": []
  },
  {
   "cell_type": "code",
   "execution_count": null,
   "metadata": {},
   "outputs": [],
   "source": []
  },
  {
   "cell_type": "code",
   "execution_count": null,
   "metadata": {},
   "outputs": [],
   "source": []
  },
  {
   "cell_type": "code",
   "execution_count": null,
   "metadata": {},
   "outputs": [],
   "source": [
    "virgo_cluster.plot_cluster(n_step=50)"
   ]
  },
  {
   "cell_type": "code",
   "execution_count": null,
   "metadata": {
    "scrolled": true
   },
   "outputs": [],
   "source": [
    "clusters = []\n",
    "labels = []\n",
    "elbo_rat = []\n",
    "\n",
    "for val in values.copy():\n",
    "    plot_dat = virgo_cluster.cluster[virgo_cluster.cluster_labels == val]\n",
    "    plot_y = virgo_cluster.cluster_labels[virgo_cluster.cluster_labels == val]\n",
    "    \n",
    "    model = GaussianMixture(n_components=1)\n",
    "    model.fit(plot_dat)\n",
    "    m1 = model.lower_bound_\n",
    "    \n",
    "    model = GaussianMixture(n_components=2)\n",
    "    model.fit(plot_dat)\n",
    "    m2 = model.lower_bound_\n",
    "\n",
    "    print(m1 / m2, m1, m2)\n",
    "    elbo_rat.append(m1 / m2)\n",
    "    \n",
    "    if (m1 / m2) < 1.075:\n",
    "        clusters.append(plot_dat)\n",
    "        labels.append(plot_y)\n",
    "        \n",
    "        fig = plt.figure(figsize=(8, 8))\n",
    "        ax = fig.add_subplot(projection='3d')\n",
    "        ax.scatter(plot_dat.T[0], plot_dat.T[1], plot_dat.T[2], c=plot_y, marker=\".\", cmap=\"plasma\")\n",
    "        plt.show()\n",
    "\n",
    "    else:\n",
    "        \n",
    "        plot_pred_y = model.predict(plot_dat)\n",
    "        new_label = len(values)\n",
    "        \n",
    "        clusters.append(plot_dat[plot_pred_y==0])\n",
    "        labels.append(plot_y[plot_pred_y==0])\n",
    "        \n",
    "        clusters.append(plot_dat[plot_pred_y==1])\n",
    "        plot_y[plot_pred_y==1] = new_label\n",
    "        labels.append(plot_y[plot_pred_y==1])\n",
    "        values.append(new_label)\n",
    "        \n",
    "        fig = plt.figure(figsize=(8, 8))\n",
    "        ax = fig.add_subplot(projection='3d')\n",
    "        ax.scatter(plot_dat.T[0], plot_dat.T[1], plot_dat.T[2], c=plot_pred_y, marker=\".\", cmap=\"plasma\")\n",
    "        plt.show()\n",
    "\n",
    "clusters = np.array(clusters)\n",
    "labels = np.array(labels)"
   ]
  },
  {
   "cell_type": "code",
   "execution_count": null,
   "metadata": {
    "scrolled": false
   },
   "outputs": [],
   "source": [
    "for ind, clust in enumerate(clusters):\n",
    "    print(labels[ind].shape[0])\n",
    "    \n",
    "    if ind == 0:\n",
    "        all_clusters = np.array(clust)\n",
    "        all_labs = np.array(labels[ind])\n",
    "    else:\n",
    "        all_clusters = np.concatenate([all_clusters, clust])\n",
    "        all_labs = np.concatenate([all_labs, labels[ind]])\n",
    "\n",
    "\n",
    "virgo_cluster.cluster = all_clusters\n",
    "virgo_cluster.cluster_labels = all_labs"
   ]
  },
  {
   "cell_type": "code",
   "execution_count": null,
   "metadata": {},
   "outputs": [],
   "source": [
    "virgo_cluster.plot_cluster(n_step=50)"
   ]
  },
  {
   "cell_type": "code",
   "execution_count": null,
   "metadata": {
    "scrolled": false
   },
   "outputs": [],
   "source": [
    "virgo_cluster.plot_cluster(n_step=4, cluster_ind=[2, 1])"
   ]
  },
  {
   "cell_type": "code",
   "execution_count": null,
   "metadata": {},
   "outputs": [],
   "source": []
  }
 ],
 "metadata": {
  "kernelspec": {
   "display_name": "Python 3",
   "language": "python",
   "name": "python3"
  },
  "language_info": {
   "codemirror_mode": {
    "name": "ipython",
    "version": 3
   },
   "file_extension": ".py",
   "mimetype": "text/x-python",
   "name": "python",
   "nbconvert_exporter": "python",
   "pygments_lexer": "ipython3",
   "version": "3.8.10"
  }
 },
 "nbformat": 4,
 "nbformat_minor": 1
}
