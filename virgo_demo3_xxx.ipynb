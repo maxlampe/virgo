{
 "cells": [
  {
   "cell_type": "markdown",
   "metadata": {},
   "source": [
    "# Virgo Demo 3 - Advanced pipeline"
   ]
  },
  {
   "cell_type": "code",
   "execution_count": null,
   "metadata": {},
   "outputs": [],
   "source": [
    "from virgo.cluster import VirgoCluster\n",
    "from virgo.kernel import VirgoKernel, VirgoSimpleKernel\n",
    "from virgo.mixture import VirgoMixture, VirgoClustering\n",
    "from virgo.cleaner import LowDensityCleaner\n",
    "\n",
    "%load_ext autoreload\n",
    "%autoreload 2\n",
    "\n",
    "%matplotlib notebook"
   ]
  },
  {
   "cell_type": "markdown",
   "metadata": {},
   "source": [
    "### Data class\n",
    "\n",
    "VirgoCluster is meant to be the base class for data handling. It stores separately raw data, the rescaled data set and the final cluster and cluster_label arrays.The rescaled data set is created of the scale_data() class method is called. print_datastats() prints a few helper info about the stored datasets. "
   ]
  },
  {
   "cell_type": "code",
   "execution_count": null,
   "metadata": {},
   "outputs": [],
   "source": [
    "file_name = \"/home/max/Software/virgo/data/data.txt\"\n",
    "virgo_cluster = VirgoCluster(file_name=file_name)\n",
    "virgo_cluster.scale_data()\n",
    "virgo_cluster.print_datastats()"
   ]
  },
  {
   "cell_type": "markdown",
   "metadata": {},
   "source": [
    "### Kernel\n",
    "\n",
    "Virgo uses a covariance function to create additional feature space dimensions by leveraging correlations in the datasets itself. For the time being this is a very simple LinearKernel. VirgoKernel needs to be instantiated with the corresponding VirgoCluster object and then just called. The new feature dimensions are added to the rescaled data set automatically, as can be seen from the stats output.\n",
    "\n",
    "Currently, only the spatial dimensions are used for the kernel. Dimensions to use can be passed as list."
   ]
  },
  {
   "cell_type": "code",
   "execution_count": null,
   "metadata": {},
   "outputs": [],
   "source": [
    "# virgo_kernel = VirgoKernel(virgo_cluster, spatial_dim=[0, 1, 2, 3, 4, 5], add_dim_back=6)\n",
    "# virgo_kernel = VirgoKernel(virgo_cluster, spatial_dim=[0, 1, 2, 3, 4, 5, 6])\n",
    "# virgo_kernel = VirgoKernel(virgo_cluster, add_dim_back=6)\n",
    "# virgo_kernel = VirgoKernel(virgo_cluster)\n",
    "virgo_kernel = VirgoSimpleKernel(virgo_cluster)\n",
    "virgo_kernel()\n",
    "virgo_cluster.print_datastats()"
   ]
  },
  {
   "cell_type": "code",
   "execution_count": null,
   "metadata": {
    "scrolled": true
   },
   "outputs": [],
   "source": [
    "# virgo_mixture = VirgoMixture(virgo_cluster, n_comp=12, mixture_type=\"bayesian_gaussian\")\n",
    "# virgo_mixture = VirgoMixture(virgo_cluster, n_comp=12, fit_dim_ind=[0, 1, 2, 3, 4, 5])\n",
    "virgo_mixture = VirgoMixture(virgo_cluster, n_comp=12)\n",
    "elbo = virgo_mixture.fit()\n",
    "\n",
    "print(f\"ELBO: {elbo}\")\n",
    "print(f\"Mixture weights {virgo_mixture.model.weights_}\")\n",
    "\n",
    "virgo_mixture.predict(remove_uncertain_labels=True)\n",
    "labels_removed = virgo_cluster.get_labels(return_counts=True)\n",
    "print(labels_removed)\n",
    "\n",
    "virgo_cluster.plot_cluster(n_step=25, plot_kernel_space=True)\n",
    "virgo_cluster.plot_cluster(n_step=25, store_gif=True)"
   ]
  },
  {
   "cell_type": "code",
   "execution_count": null,
   "metadata": {
    "collapsed": true
   },
   "outputs": [],
   "source": [
    "for i in virgo_cluster.get_labels()[1:]:\n",
    "    print(f\"Label {i}, Counts {virgo_cluster.get_labels(return_counts=True)[1][i + 1]}\")\n",
    "    virgo_cluster.plot_cluster(n_step=10, cluster_label=[i])"
   ]
  },
  {
   "cell_type": "code",
   "execution_count": null,
   "metadata": {
    "scrolled": false
   },
   "outputs": [],
   "source": [
    "d_cleaner = LowDensityCleaner(virgo_cluster, 1e-8)\n",
    "d_cleaner.clean()\n",
    "print(virgo_cluster.get_labels(return_counts=True))\n",
    "virgo_cluster.plot_cluster(n_step=25)"
   ]
  },
  {
   "cell_type": "code",
   "execution_count": null,
   "metadata": {},
   "outputs": [],
   "source": [
    "virgo_cluster.plot_cluster(n_step=50, cluster_label=[0, 1, 2, 3, 4])"
   ]
  },
  {
   "cell_type": "code",
   "execution_count": null,
   "metadata": {},
   "outputs": [],
   "source": [
    "# virgo_cluster.export_cluster(\"vc_cleaned\", remove_uncertain=True, remove_evno=True)"
   ]
  },
  {
   "cell_type": "markdown",
   "metadata": {},
   "source": [
    "### After removing low density, start from the top\n",
    "\n",
    "Should help with less spread and noisy covar"
   ]
  },
  {
   "cell_type": "code",
   "execution_count": null,
   "metadata": {},
   "outputs": [],
   "source": [
    "# file_name = \"/home/max/Software/virgo/vc_cleaned_cluster.txt\"\n",
    "file_name = \"/home/max/Software/virgo/data/data.txt\"\n",
    "virgo_cluster = VirgoCluster(file_name=file_name, n_max_data=200000)\n",
    "virgo_cluster.scale_data()\n",
    "virgo_cluster.print_datastats()"
   ]
  },
  {
   "cell_type": "code",
   "execution_count": null,
   "metadata": {
    "scrolled": true
   },
   "outputs": [],
   "source": [
    "# virgo_kernel = VirgoKernel(virgo_cluster, spatial_dim=[0, 1, 2, 3, 4, 5], add_dim_back=6)\n",
    "# virgo_kernel = VirgoKernel(virgo_cluster, spatial_dim=[0, 1, 2])\n",
    "# virgo_kernel = VirgoKernel(virgo_cluster, add_dim_back=6)\n",
    "virgo_kernel = VirgoKernel(virgo_cluster)\n",
    "virgo_kernel()\n",
    "virgo_cluster.print_datastats()"
   ]
  },
  {
   "cell_type": "code",
   "execution_count": null,
   "metadata": {
    "scrolled": true
   },
   "outputs": [],
   "source": [
    "# virgo_mixture = VirgoMixture(virgo_cluster, n_comp=25, mixture_type=\"bayesian_gaussian\")\n",
    "# virgo_mixture = VirgoMixture(virgo_cluster, n_comp=10, fit_dim_ind=[0, 1, 2, 3, 4, 5])\n",
    "virgo_mixture = VirgoMixture(virgo_cluster, n_comp=12)\n",
    "elbo = virgo_mixture.fit()\n",
    "\n",
    "print(f\"ELBO: {elbo}\")\n",
    "print(f\"Mixture weights {virgo_mixture.model.weights_}\")\n",
    "\n",
    "virgo_mixture.predict(remove_uncertain_labels=True)\n",
    "labels_removed = virgo_cluster.get_labels(return_counts=True)\n",
    "print(labels_removed)\n",
    "\n",
    "virgo_cluster.plot_cluster(n_step=20, plot_kernel_space=True, store_gif=True)\n",
    "virgo_cluster.plot_cluster(n_step=20)"
   ]
  },
  {
   "cell_type": "code",
   "execution_count": null,
   "metadata": {
    "collapsed": true
   },
   "outputs": [],
   "source": [
    "for i in virgo_cluster.get_labels()[1:]:\n",
    "    print(f\"Label {i}, Counts {virgo_cluster.get_labels(return_counts=True)[1][i + 1]}\")\n",
    "    virgo_cluster.plot_cluster(n_step=10, cluster_label=[i])"
   ]
  },
  {
   "cell_type": "code",
   "execution_count": null,
   "metadata": {
    "scrolled": false
   },
   "outputs": [],
   "source": [
    "# virgo_mixture = VirgoMixture(virgo_cluster, n_comp=10, mixture_type=\"bayesian_gaussian\") # verbos\n",
    "# virgo_mixture = VirgoMixture(virgo_cluster, n_comp=10, fit_dim_ind=[0, 1, 2, 3, 4, 5])\n",
    "virgo_clustering = VirgoClustering(virgo_cluster, n_clusters=12, clustering_type=\"optics\")\n",
    "virgo_clustering.predict()\n",
    "labels_removed = virgo_cluster.get_labels(return_counts=True)\n",
    "print(labels_removed)\n",
    "\n",
    "virgo_cluster.plot_cluster(n_step=20, plot_kernel_space=True)\n",
    "virgo_cluster.plot_cluster(n_step=20)"
   ]
  },
  {
   "cell_type": "code",
   "execution_count": null,
   "metadata": {},
   "outputs": [],
   "source": []
  },
  {
   "cell_type": "code",
   "execution_count": null,
   "metadata": {},
   "outputs": [],
   "source": []
  },
  {
   "cell_type": "code",
   "execution_count": null,
   "metadata": {},
   "outputs": [],
   "source": []
  },
  {
   "cell_type": "code",
   "execution_count": null,
   "metadata": {},
   "outputs": [],
   "source": []
  },
  {
   "cell_type": "code",
   "execution_count": null,
   "metadata": {},
   "outputs": [],
   "source": []
  },
  {
   "cell_type": "code",
   "execution_count": null,
   "metadata": {
    "collapsed": true
   },
   "outputs": [],
   "source": [
    "virgo_clustering = VirgoClustering(virgo_cluster, min_samples=100)\n",
    "virgo_clustering.predict()\n",
    "labels_removed = virgo_cluster.get_labels(return_counts=True)\n",
    "print(labels_removed)\n",
    "\n",
    "virgo_cluster.plot_cluster(n_step=5, plot_kernel_space=True)\n",
    "virgo_cluster.plot_cluster(n_step=5)"
   ]
  },
  {
   "cell_type": "code",
   "execution_count": null,
   "metadata": {},
   "outputs": [],
   "source": [
    "virgo_clustering = VirgoClustering(virgo_cluster, n_clusters=8, clustering_type=\"agglo\")\n",
    "virgo_clustering.predict()\n",
    "labels_removed = virgo_cluster.get_labels(return_counts=True)\n",
    "print(labels_removed)\n",
    "\n",
    "virgo_cluster.plot_cluster(n_step=1, plot_kernel_space=True)\n",
    "virgo_cluster.plot_cluster(n_step=1)"
   ]
  },
  {
   "cell_type": "code",
   "execution_count": null,
   "metadata": {
    "collapsed": true
   },
   "outputs": [],
   "source": [
    "virgo_clustering = VirgoClustering(virgo_cluster, n_clusters=10, clustering_type=\"spectral\")\n",
    "virgo_clustering.predict()\n",
    "labels_removed = virgo_cluster.get_labels(return_counts=True)\n",
    "print(labels_removed)\n",
    "\n",
    "virgo_cluster.plot_cluster(n_step=5, plot_kernel_space=True)\n",
    "virgo_cluster.plot_cluster(n_step=5)"
   ]
  },
  {
   "cell_type": "code",
   "execution_count": null,
   "metadata": {
    "collapsed": true
   },
   "outputs": [],
   "source": [
    "virgo_clustering = VirgoClustering(virgo_cluster, min_samples=10, clustering_type=\"dbscan\")\n",
    "virgo_clustering.predict()\n",
    "labels_removed = virgo_cluster.get_labels(return_counts=True)\n",
    "print(labels_removed)\n",
    "\n",
    "virgo_cluster.plot_cluster(n_step=5, plot_kernel_space=True)\n",
    "virgo_cluster.plot_cluster(n_step=5)"
   ]
  },
  {
   "cell_type": "code",
   "execution_count": null,
   "metadata": {},
   "outputs": [],
   "source": []
  },
  {
   "cell_type": "code",
   "execution_count": null,
   "metadata": {},
   "outputs": [],
   "source": []
  },
  {
   "cell_type": "code",
   "execution_count": null,
   "metadata": {},
   "outputs": [],
   "source": []
  },
  {
   "cell_type": "code",
   "execution_count": null,
   "metadata": {},
   "outputs": [],
   "source": []
  },
  {
   "cell_type": "code",
   "execution_count": null,
   "metadata": {},
   "outputs": [],
   "source": []
  },
  {
   "cell_type": "code",
   "execution_count": null,
   "metadata": {},
   "outputs": [],
   "source": []
  },
  {
   "cell_type": "code",
   "execution_count": null,
   "metadata": {},
   "outputs": [],
   "source": [
    "import matplotlib.pyplot as plt"
   ]
  },
  {
   "cell_type": "code",
   "execution_count": null,
   "metadata": {},
   "outputs": [],
   "source": [
    "elbos = []\n",
    "bics = []\n",
    "for i in range(2, 45, 3):\n",
    "    virgo_mixture = VirgoMixture(virgo_cluster, n_comp=i, mixture_type=\"gaussian\")\n",
    "    elbo = virgo_mixture.fit()\n",
    "    elbos.append(elbo)\n",
    "    bic = virgo_mixture.model.bic(virgo_cluster.scaled_data)\n",
    "    bics.append(bic)\n",
    "    print(i, elbo, bic)\n",
    "\n",
    "print(elbos)\n",
    "print(bics)"
   ]
  },
  {
   "cell_type": "code",
   "execution_count": null,
   "metadata": {},
   "outputs": [],
   "source": [
    "plt.plot(elbos)\n",
    "plt.show()   "
   ]
  },
  {
   "cell_type": "code",
   "execution_count": null,
   "metadata": {},
   "outputs": [],
   "source": [
    "plt.plot(bics)\n",
    "plt.show()  "
   ]
  },
  {
   "cell_type": "code",
   "execution_count": null,
   "metadata": {},
   "outputs": [],
   "source": []
  },
  {
   "cell_type": "code",
   "execution_count": null,
   "metadata": {},
   "outputs": [],
   "source": []
  },
  {
   "cell_type": "code",
   "execution_count": null,
   "metadata": {},
   "outputs": [],
   "source": [
    "from sklearn.cluster import OPTICS, DBSCAN\n",
    "import matplotlib.pyplot as plt\n",
    "import numpy as np"
   ]
  },
  {
   "cell_type": "code",
   "execution_count": null,
   "metadata": {
    "scrolled": false
   },
   "outputs": [],
   "source": [
    "X = virgo_cluster.scaled_data[::30]\n",
    "clustering = OPTICS(min_samples=50)\n",
    "# clustering = DBSCAN(eps=0.4, min_samples=50).fit(X)\n",
    "pred_y1 = clustering.fit_predict(X)\n",
    "\n",
    "\n",
    "# fig = plt.figure(figsize=(8, 8))\n",
    "# ax = fig.add_subplot(projection='3d')\n",
    "# # ax.scatter(sub_data.T[0], sub_data.T[1], sub_data.T[2])\n",
    "# ax.scatter(X.T[0], X.T[1], X.T[2], c=pred_y1, marker=\".\", cmap=\"plasma\")\n",
    "# plt.show()\n",
    "\n",
    "fig = plt.figure(figsize=(8, 8))\n",
    "ax = fig.add_subplot(projection='3d')\n",
    "# ax.scatter(sub_data.T[0], sub_data.T[1], sub_data.T[2])\n",
    "ax.scatter(X.T[0], X.T[1], X.T[2], c=pred_y1, marker=\".\", cmap=\"plasma\")\n",
    "plt.show()"
   ]
  },
  {
   "cell_type": "code",
   "execution_count": null,
   "metadata": {},
   "outputs": [],
   "source": [
    "np.unique(pred_y1, return_counts=True)"
   ]
  },
  {
   "cell_type": "code",
   "execution_count": null,
   "metadata": {},
   "outputs": [],
   "source": []
  },
  {
   "cell_type": "code",
   "execution_count": null,
   "metadata": {},
   "outputs": [],
   "source": []
  },
  {
   "cell_type": "code",
   "execution_count": null,
   "metadata": {},
   "outputs": [],
   "source": [
    "import matplotlib.pyplot as plt"
   ]
  },
  {
   "cell_type": "code",
   "execution_count": null,
   "metadata": {},
   "outputs": [],
   "source": [
    "elbos = []\n",
    "bics = []\n",
    "for i in range(2, 25, 3):\n",
    "    virgo_mixture = VirgoMixture(virgo_cluster, n_comp=i, mixture_type=\"gaussian\")\n",
    "    elbo = virgo_mixture.fit()\n",
    "    elbos.append(elbo)\n",
    "    bic = virgo_mixture.model.bic(virgo_cluster.scaled_data)\n",
    "    bics.append(bic)\n",
    "    print(i, elbo, bic)\n",
    "\n",
    "print(elbos)\n",
    "print(bics)\n",
    "plt.plot(elbos)\n",
    "plt.show()   \n",
    "plt.plot(bics)\n",
    "plt.show()  "
   ]
  },
  {
   "cell_type": "code",
   "execution_count": null,
   "metadata": {},
   "outputs": [],
   "source": [
    "virgo_mixture.predict(remove_uncertain_labels=True)\n",
    "labels_removed = virgo_cluster.get_labels(return_counts=True)\n",
    "print(labels_removed)"
   ]
  },
  {
   "cell_type": "code",
   "execution_count": null,
   "metadata": {},
   "outputs": [],
   "source": []
  },
  {
   "cell_type": "code",
   "execution_count": null,
   "metadata": {},
   "outputs": [],
   "source": []
  },
  {
   "cell_type": "code",
   "execution_count": null,
   "metadata": {},
   "outputs": [],
   "source": []
  },
  {
   "cell_type": "markdown",
   "metadata": {},
   "source": [
    "### Gaussian mixture fit model\n",
    "\n",
    "We are using a Gaussian mixture model to classify the data. Te VirgoMixture class currently has a GaussianMixture model with fixed number of components and a BayesianGaussianMixture model with a Dirichlet process prior to downweight unneeded components. We currently emply the former as default for the time being.\n",
    "\n",
    "The evidence lower bound is returned as goodness-of-fit measure and the component weights can be called from the model as attribute.\n",
    "\n",
    "Calling the predict() method without any data as input, automatically sets the labels for the entire dataset in the VirgoCluster. The option to remove labels with a probability belong 95% is also there, but not called on default. The threshhold can be changed as an input parameter as well."
   ]
  },
  {
   "cell_type": "code",
   "execution_count": null,
   "metadata": {},
   "outputs": [],
   "source": [
    "virgo_mixture = VirgoMixture(virgo_cluster, n_comp=25, mixture_type=\"bayesian_gaussian\")\n",
    "# virgo_mixture = VirgoMixture(virgo_cluster, n_comp=12)\n",
    "elbo = virgo_mixture.fit()\n",
    "\n",
    "print(f\"ELBO: {elbo}\")\n",
    "print(f\"Mixture weights {virgo_mixture.model.weights_}\")\n",
    "\n",
    "virgo_mixture.predict(remove_uncertain_labels=True)\n",
    "labels_removed = virgo_cluster.get_labels(return_counts=True)\n",
    "print(labels_removed)"
   ]
  },
  {
   "cell_type": "markdown",
   "metadata": {},
   "source": [
    "### Visualization \n",
    "\n",
    "VirgoCluster has a general plotting method plot_cluster() to visualize the fitted data. Specific labels can be called via list input. \"Removed\" uncertain labels are automatically not shown, but can be switched on again. Maker size is also an input parameter."
   ]
  },
  {
   "cell_type": "code",
   "execution_count": null,
   "metadata": {},
   "outputs": [],
   "source": [
    "virgo_cluster.plot_cluster(n_step=50, plot_kernel_space=True)\n",
    "virgo_cluster.plot_cluster(n_step=50)"
   ]
  },
  {
   "cell_type": "code",
   "execution_count": null,
   "metadata": {},
   "outputs": [],
   "source": [
    "virgo_cluster.plot_cluster(n_step=25, cluster_label=[0, 1, 2, 3])"
   ]
  },
  {
   "cell_type": "code",
   "execution_count": null,
   "metadata": {
    "scrolled": false
   },
   "outputs": [],
   "source": [
    "virgo_cluster.plot_cluster(n_step=10, remove_uncertain=False, cluster_label=[-1])"
   ]
  },
  {
   "cell_type": "markdown",
   "metadata": {},
   "source": [
    "### Cleaning\n",
    "\n",
    "We can further clean the resultign clusters by either further separating a cluster by checking with a two component GaussianMixture fit or by removing low density clusters who are of low interest to our problem. The latter is more stable for the time being, as both rely on an emiprical parameter, but the desnity cut is physically motivated and easier to verify.\n",
    "\n",
    "Relabeling due to cluster size ist called on default, but can be set to False."
   ]
  },
  {
   "cell_type": "code",
   "execution_count": null,
   "metadata": {},
   "outputs": [],
   "source": [
    "virgo_cluster.plot_cluster(n_step=50)\n",
    "virgo_cluster.get_labels(return_counts=True)"
   ]
  },
  {
   "cell_type": "code",
   "execution_count": null,
   "metadata": {
    "scrolled": false
   },
   "outputs": [],
   "source": [
    "d_cleaner = LowDensityCleaner(virgo_cluster, 1e-10)\n",
    "d_cleaner.clean()\n",
    "print(virgo_cluster.get_labels(return_counts=True))\n",
    "virgo_cluster.plot_cluster(n_step=50)"
   ]
  },
  {
   "cell_type": "code",
   "execution_count": null,
   "metadata": {},
   "outputs": [],
   "source": [
    "virgo_cluster.plot_cluster(n_step=25, cluster_label=[0, 1, 2, 3, 4])"
   ]
  },
  {
   "cell_type": "code",
   "execution_count": null,
   "metadata": {},
   "outputs": [],
   "source": []
  }
 ],
 "metadata": {
  "kernelspec": {
   "display_name": "Python 3",
   "language": "python",
   "name": "python3"
  },
  "language_info": {
   "codemirror_mode": {
    "name": "ipython",
    "version": 3
   },
   "file_extension": ".py",
   "mimetype": "text/x-python",
   "name": "python",
   "nbconvert_exporter": "python",
   "pygments_lexer": "ipython3",
   "version": "3.8.10"
  }
 },
 "nbformat": 4,
 "nbformat_minor": 1
}